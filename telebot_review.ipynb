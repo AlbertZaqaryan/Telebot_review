{
 "cells": [
  {
   "cell_type": "code",
   "execution_count": null,
   "id": "3fb18814",
   "metadata": {},
   "outputs": [],
   "source": [
    "import telebot \n",
    "from telebot import types\n",
    "import pickle\n",
    "\n",
    "with open('bot.pkl', 'rb') as file:\n",
    "    mymodel = pickle.load(file)\n",
    "    \n",
    "bot = telebot.TeleBot('6198624834:AAGnKSgGWZuCP0JIQAvxuYztev1i0SSmADE')\n",
    "@bot.message_handler(commands=['start'])\n",
    "def start(message):\n",
    "    mess = f'բարև, <b>{message.from_user.first_name}</b>'\n",
    "    bot.send_message(message.chat.id, mess , parse_mode = 'html')\n",
    "    markup = types.ReplyKeyboardMarkup(row_width=1)\n",
    "\n",
    "@bot.message_handler(content_types=['text'])\n",
    "def bot_message(message): \n",
    "    if message.text:\n",
    "        bot.send_message(message.chat.id, mymodel.predict([message.text]))\n",
    "\n",
    "bot.polling(non_stop=True)"
   ]
  }
 ],
 "metadata": {
  "kernelspec": {
   "display_name": "Python 3 (ipykernel)",
   "language": "python",
   "name": "python3"
  },
  "language_info": {
   "codemirror_mode": {
    "name": "ipython",
    "version": 3
   },
   "file_extension": ".py",
   "mimetype": "text/x-python",
   "name": "python",
   "nbconvert_exporter": "python",
   "pygments_lexer": "ipython3",
   "version": "3.11.2"
  }
 },
 "nbformat": 4,
 "nbformat_minor": 5
}
